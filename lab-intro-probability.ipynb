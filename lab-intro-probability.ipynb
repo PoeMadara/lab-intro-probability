{
 "cells": [
  {
   "cell_type": "markdown",
   "metadata": {},
   "source": [
    "# Lab | Intro to Probability"
   ]
  },
  {
   "cell_type": "markdown",
   "metadata": {},
   "source": [
    "**Objective**\n",
    "\n",
    "Welcome to this Intro to Probability lab, where we explore decision-making scenarios through the lens of probability and strategic analysis. In the business world, making informed decisions is crucial, especially when faced with uncertainties. This lab focuses on scenarios where probabilistic outcomes play a significant role in shaping strategies and outcomes. Students will engage in exercises that require assessing and choosing optimal paths based on data-driven insights. The goal is to enhance your skills by applying probability concepts to solve real-world problems."
   ]
  },
  {
   "cell_type": "markdown",
   "metadata": {},
   "source": [
    "**Challenge 1**"
   ]
  },
  {
   "cell_type": "markdown",
   "metadata": {},
   "source": [
    "#### Ironhack Airlines \n",
    "\n",
    "Often Airlines sell more tickets than they have seats available, this is called overbooking. Consider the following:\n",
    "- A plane has 450 seats. \n",
    "- Based on historical data we conclude that each individual passenger has a 3% chance of missing it's flight. \n",
    "\n",
    "If the Ironhack Airlines routinely sells 460 tickets, what is the chance that they have a seats for all passenger?"
   ]
  },
  {
   "cell_type": "code",
   "execution_count": 3,
   "metadata": {},
   "outputs": [
    {
     "name": "stdout",
     "output_type": "stream",
     "text": [
      "The probability of having seats for all passengers is 0.8845\n"
     ]
    }
   ],
   "source": [
    "#code here\n",
    "\n",
    "import numpy as np\n",
    "import scipy.stats as stats\n",
    "\n",
    "# Given data\n",
    "seats = 450          # Total number of seats\n",
    "tickets_sold = 460   # Total tickets sold\n",
    "miss_probability = 0.03  # Probability of a passenger missing the flight\n",
    "passengers = tickets_sold  # Total passengers who could show up\n",
    "\n",
    "# Calculate the number of passengers that are expected to show up\n",
    "# This follows a binomial distribution\n",
    "# We want to calculate the probability that the number of passengers showing up\n",
    "# is less than or equal to the number of seats available.\n",
    "\n",
    "# Define the binomial distribution parameters\n",
    "n = passengers  # total number of trials (tickets sold)\n",
    "p = 1 - miss_probability  # probability of success (passenger shows up)\n",
    "\n",
    "# Calculate the probability of having seats for all passengers\n",
    "# This is equivalent to finding P(X <= seats)\n",
    "probability_seats_available = stats.binom.cdf(seats, n, p)\n",
    "\n",
    "print(f'The probability of having seats for all passengers is {probability_seats_available:.4f}')\n"
   ]
  },
  {
   "cell_type": "markdown",
   "metadata": {},
   "source": [
    "**Challenge 2**"
   ]
  },
  {
   "cell_type": "markdown",
   "metadata": {},
   "source": [
    "#### Ironhack Call Center "
   ]
  },
  {
   "cell_type": "markdown",
   "metadata": {},
   "source": [
    "Suppose a customer service representative at a call center is handling customer complaints. Consider the following:\n",
    "- The probability of successfully resolving a customer complaint on the first attempt is 0.3. \n",
    "\n",
    "\n",
    "What is the probability that the representative needs to make at least three attempts before successfully resolving a customer complaint?"
   ]
  },
  {
   "cell_type": "code",
   "execution_count": 4,
   "metadata": {},
   "outputs": [
    {
     "name": "stdout",
     "output_type": "stream",
     "text": [
      "The probability that the representative needs at least three attempts is 0.4900\n"
     ]
    }
   ],
   "source": [
    "#code here\n",
    "\n",
    "# Given data\n",
    "p_success = 0.3  # Probability of successfully resolving a complaint\n",
    "p_failure = 1 - p_success  # Probability of failure\n",
    "\n",
    "# Calculate the probability of needing at least three attempts\n",
    "probability_at_least_three_attempts = p_failure ** 2  # (1 - p) * (1 - p)\n",
    "\n",
    "# Print the result, formatted to four decimal places\n",
    "print(f'The probability that the representative needs at least three attempts is {probability_at_least_three_attempts:.4f}')"
   ]
  },
  {
   "cell_type": "markdown",
   "metadata": {},
   "source": [
    "**Challenge 3**"
   ]
  },
  {
   "cell_type": "markdown",
   "metadata": {},
   "source": [
    "#### Ironhack Website"
   ]
  },
  {
   "cell_type": "markdown",
   "metadata": {},
   "source": [
    "Consider a scenario related to Ironhack website traffic. Where:\n",
    "- our website takes on average 500 visits per hour.\n",
    "- the website's server is designed to handle up to 550 vists per hour.\n",
    "\n",
    "\n",
    "What is the probability of the website server being overwhelmed?"
   ]
  },
  {
   "cell_type": "code",
   "execution_count": 5,
   "metadata": {},
   "outputs": [
    {
     "name": "stdout",
     "output_type": "stream",
     "text": [
      "The probability of the server being overwhelmed in one hour is 0.0129\n"
     ]
    }
   ],
   "source": [
    "#code here\n",
    "\n",
    "# Given data for one hour\n",
    "lambda_visits = 500  # Average visits per hour\n",
    "server_capacity = 550  # Maximum visits server can handle\n",
    "\n",
    "# Part 1: Probability of being overwhelmed in one hour\n",
    "probability_overwhelmed_hour = 1 - stats.poisson.cdf(server_capacity, lambda_visits)\n",
    "print(f'The probability of the server being overwhelmed in one hour is {probability_overwhelmed_hour:.4f}')"
   ]
  },
  {
   "cell_type": "markdown",
   "metadata": {},
   "source": [
    "What is the probability of being overwhelmed at some point during a day? (consider 24hours)"
   ]
  },
  {
   "cell_type": "code",
   "execution_count": 6,
   "metadata": {},
   "outputs": [
    {
     "name": "stdout",
     "output_type": "stream",
     "text": [
      "The probability of being overwhelmed at some point during the day is 1.0000\n"
     ]
    }
   ],
   "source": [
    "#code here\n",
    "\n",
    "# Part 2: Probability of being overwhelmed at some point during a day\n",
    "lambda_24_hours = 24 * lambda_visits  # Total average visits in 24 hours\n",
    "probability_not_overwhelmed_day = stats.poisson.cdf(server_capacity, lambda_24_hours) ** 24\n",
    "probability_overwhelmed_day = 1 - probability_not_overwhelmed_day\n",
    "print(f'The probability of being overwhelmed at some point during the day is {probability_overwhelmed_day:.4f}')"
   ]
  },
  {
   "cell_type": "markdown",
   "metadata": {},
   "source": [
    "**Challenge 4**"
   ]
  },
  {
   "cell_type": "markdown",
   "metadata": {},
   "source": [
    "#### Ironhack Helpdesk"
   ]
  },
  {
   "cell_type": "markdown",
   "metadata": {},
   "source": [
    "Consider a scenario related to the time between arrivals of customers at a service desk.\n",
    "\n",
    "On average, a customers arrives every 10minutes.\n",
    "\n",
    "What is the probability that the next customer will arrive within the next 5 minutes?"
   ]
  },
  {
   "cell_type": "code",
   "execution_count": 7,
   "metadata": {},
   "outputs": [
    {
     "name": "stdout",
     "output_type": "stream",
     "text": [
      "The probability that the next customer will arrive within the next 5 minutes is 0.3935\n"
     ]
    }
   ],
   "source": [
    "# Part 1: Probability of the next customer arriving within the next 5 minutes\n",
    "arrival_rate = 1 / 10  # Average arrival rate (customers per minute)\n",
    "time_interval = 5  # Time interval (in minutes)\n",
    "\n",
    "# Calculate the probability of the next customer arriving within the next 5 minutes\n",
    "probability_next_customer_within_5 = 1 - np.exp(-arrival_rate * time_interval)\n",
    "print(f'The probability that the next customer will arrive within the next 5 minutes is {probability_next_customer_within_5:.4f}')\n"
   ]
  },
  {
   "cell_type": "markdown",
   "metadata": {},
   "source": [
    "If there is no customer for 15minutes, employees can that a 5minutes break.\n",
    "\n",
    "What is the probability an employee taking a break?"
   ]
  },
  {
   "cell_type": "code",
   "execution_count": 8,
   "metadata": {},
   "outputs": [
    {
     "name": "stdout",
     "output_type": "stream",
     "text": [
      "The probability of an employee taking a break (no customer for 15 minutes) is 0.2231\n"
     ]
    }
   ],
   "source": [
    "# Part 2: Probability of an employee taking a break\n",
    "no_customer_time = 15  # Time interval for no customer (in minutes)\n",
    "\n",
    "# Calculate the probability of no customer arriving in 15 minutes\n",
    "probability_no_customer_for_15 = np.exp(-arrival_rate * no_customer_time)\n",
    "print(f'The probability of an employee taking a break (no customer for 15 minutes) is {probability_no_customer_for_15:.4f}')"
   ]
  },
  {
   "cell_type": "markdown",
   "metadata": {},
   "source": [
    "**Challenge 5**"
   ]
  },
  {
   "cell_type": "markdown",
   "metadata": {},
   "source": [
    "The weights of a certain species of birds follow a normal distribution with a mean weight of 150 grams and a standard deviation of 10 grams. \n",
    "\n",
    "- If we randomly select a bird, what is the probability that its weight is between 140 and 160 grams?"
   ]
  },
  {
   "cell_type": "code",
   "execution_count": 9,
   "metadata": {},
   "outputs": [
    {
     "name": "stdout",
     "output_type": "stream",
     "text": [
      "The probability that a randomly selected bird weighs between 140 and 160 grams is 0.6827\n"
     ]
    }
   ],
   "source": [
    "#code here\n",
    "\n",
    "# Given data\n",
    "mean_weight = 150  # Mean weight in grams\n",
    "std_dev_weight = 10  # Standard deviation in grams\n",
    "\n",
    "# Define the weights of interest\n",
    "weight_low = 140  # Lower weight in grams\n",
    "weight_high = 160  # Higher weight in grams\n",
    "\n",
    "# Calculate the cumulative probabilities\n",
    "probability_low = stats.norm.cdf(weight_low, mean_weight, std_dev_weight)\n",
    "probability_high = stats.norm.cdf(weight_high, mean_weight, std_dev_weight)\n",
    "\n",
    "# Calculate the probability of the weight being between 140 and 160 grams\n",
    "probability_between = probability_high - probability_low\n",
    "\n",
    "# Print the result, formatted to four decimal places\n",
    "print(f'The probability that a randomly selected bird weighs between 140 and 160 grams is {probability_between:.4f}')\n"
   ]
  },
  {
   "cell_type": "markdown",
   "metadata": {},
   "source": [
    "**Challenge 6**"
   ]
  },
  {
   "cell_type": "markdown",
   "metadata": {},
   "source": [
    "If the lifetime (in hours) of a certain electronic component follows an exponential distribution with a mean lifetime of 50 hours, what is the probability that the component fails within the first 30 hours?"
   ]
  },
  {
   "cell_type": "code",
   "execution_count": 10,
   "metadata": {},
   "outputs": [
    {
     "name": "stdout",
     "output_type": "stream",
     "text": [
      "The probability that the component fails within the first 30 hours is 0.4512\n"
     ]
    }
   ],
   "source": [
    "#code here\n",
    "\n",
    "# Given data\n",
    "mean_lifetime = 50  # Mean lifetime in hours\n",
    "lambda_param = 1 / mean_lifetime  # Rate parameter\n",
    "\n",
    "# Define the time of interest\n",
    "time_of_interest = 30  # Time in hours\n",
    "\n",
    "# Calculate the probability of failure within the first 30 hours\n",
    "probability_failure_within_30 = 1 - np.exp(-lambda_param * time_of_interest)\n",
    "\n",
    "# Print the result, formatted to four decimal places\n",
    "print(f'The probability that the component fails within the first 30 hours is {probability_failure_within_30:.4f}')\n"
   ]
  }
 ],
 "metadata": {
  "kernelspec": {
   "display_name": "Python 3",
   "language": "python",
   "name": "python3"
  },
  "language_info": {
   "codemirror_mode": {
    "name": "ipython",
    "version": 3
   },
   "file_extension": ".py",
   "mimetype": "text/x-python",
   "name": "python",
   "nbconvert_exporter": "python",
   "pygments_lexer": "ipython3",
   "version": "3.12.5"
  }
 },
 "nbformat": 4,
 "nbformat_minor": 2
}
